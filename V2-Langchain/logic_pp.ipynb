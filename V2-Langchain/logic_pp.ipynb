{
 "cells": [
  {
   "cell_type": "code",
   "execution_count": 4,
   "metadata": {},
   "outputs": [],
   "source": [
    "import json\n",
    "\n",
    "# import datasets\n",
    "#known unknown dataset\n",
    "logic_fp = 'BIG-bench/bigbench/benchmark_tasks/logic_grid_puzzle/task.json'\n",
    "with open(logic_fp, 'r') as json_file:\n",
    "    data = json.load(json_file)\n",
    "\n"
   ]
  },
  {
   "cell_type": "code",
   "execution_count": 5,
   "metadata": {},
   "outputs": [
    {
     "name": "stdout",
     "output_type": "stream",
     "text": [
      "{'input': 'There are 5 houses in a row, numbered 1 on the left to 5 on the right. There is one person living in each house. The people in these houses have different characteristics:\\n - Each person ate something different for lunch: one ate fried rice, one ate spaghetti, one had pizza, one had stew, and one ate grilled cheese\\n - Each person has a different device: one has a phone, one has a television, one has a gameboy, one has a radio, and one has a computer\\n - Each person plays a different sport: one is a basketball player, one is a tennis player, one is a swimmer, one is a baseball player, and one is a soccer player\\n - Each person is wearing different shoes: one is wearing high heels, one is wearing loafers, one is wearing boots, one is wearing running shoes, and one is wearing sandals\\n - Each person has a favorite drink: one only drinks water, one likes milk, one is a tea drinker, one is a coffee drinker, and one is a root beer lover\\n\\nClue(s):\\n1. The person who has a computer lives somewhere to the left of the root beer lover.\\n2. The soccer player does not live in the third house.\\n3. The person who has a gameboy does not live in the fourth house.\\n4. The person who is wearing running shoes lives somewhere to the right of the person who ate grilled cheese.\\n5. The person who has a television lives somewhere to the left of the baseball player.\\n6. The swimmer lives somewhere to the left of the person who had stew.\\n7. There is one house between where the person who ate spaghetti lives and where the person who likes milk lives.\\n8. The person who ate fried rice lives somewhere to the right of the person who likes milk.\\n9. There is one house between where the person who only drinks water lives and where the swimmer lives.\\n10. The person who is wearing high heels lives directly left of the tennis player.\\n11. The person who is wearing sandals lives somewhere to the right of the root beer lover.\\n12. The person who is wearing high heels lives somewhere to the right of the swimmer.\\n13. The soccer player and the person who has a phone live directly next to each other.\\n14. The person who likes milk lives somewhere to the left of the tea drinker.\\n15. The person who has a gameboy lives somewhere to the right of the soccer player.\\n16. The person who ate spaghetti and the swimmer live directly next to each other.\\n17. The person who has a television lives directly left of the swimmer.\\n18. The root beer lover lives directly left of the person who is wearing loafers.\\n\\nWhat is the number of the house where the person who had stew lives?', 'target_scores': {'1': 0, '2': 0, '3': 0, '4': 1, '5': 0}}\n"
     ]
    }
   ],
   "source": [
    "for q in data[\"examples\"][:1]:\n",
    "    print(q)\n"
   ]
  },
  {
   "cell_type": "code",
   "execution_count": 6,
   "metadata": {},
   "outputs": [
    {
     "name": "stdout",
     "output_type": "stream",
     "text": [
      "There are 5 houses in a row, numbered 1 on the left to 5 on the right. There is one person living in each house. The people in these houses have different characteristics:\n",
      " - Each person ate something different for lunch: one ate fried rice, one ate spaghetti, one had pizza, one had stew, and one ate grilled cheese\n",
      " - Each person has a different device: one has a phone, one has a television, one has a gameboy, one has a radio, and one has a computer\n",
      " - Each person plays a different sport: one is a basketball player, one is a tennis player, one is a swimmer, one is a baseball player, and one is a soccer player\n",
      " - Each person is wearing different shoes: one is wearing high heels, one is wearing loafers, one is wearing boots, one is wearing running shoes, and one is wearing sandals\n",
      " - Each person has a favorite drink: one only drinks water, one likes milk, one is a tea drinker, one is a coffee drinker, and one is a root beer lover\n",
      "\n",
      "Clue(s):\n",
      "1. The person who has a computer lives somewhere to the left of the root beer lover.\n",
      "2. The soccer player does not live in the third house.\n",
      "3. The person who has a gameboy does not live in the fourth house.\n",
      "4. The person who is wearing running shoes lives somewhere to the right of the person who ate grilled cheese.\n",
      "5. The person who has a television lives somewhere to the left of the baseball player.\n",
      "6. The swimmer lives somewhere to the left of the person who had stew.\n",
      "7. There is one house between where the person who ate spaghetti lives and where the person who likes milk lives.\n",
      "8. The person who ate fried rice lives somewhere to the right of the person who likes milk.\n",
      "9. There is one house between where the person who only drinks water lives and where the swimmer lives.\n",
      "10. The person who is wearing high heels lives directly left of the tennis player.\n",
      "11. The person who is wearing sandals lives somewhere to the right of the root beer lover.\n",
      "12. The person who is wearing high heels lives somewhere to the right of the swimmer.\n",
      "13. The soccer player and the person who has a phone live directly next to each other.\n",
      "14. The person who likes milk lives somewhere to the left of the tea drinker.\n",
      "15. The person who has a gameboy lives somewhere to the right of the soccer player.\n",
      "16. The person who ate spaghetti and the swimmer live directly next to each other.\n",
      "17. The person who has a television lives directly left of the swimmer.\n",
      "18. The root beer lover lives directly left of the person who is wearing loafers.\n",
      "\n",
      "What is the number of the house where the person who had stew lives?\n",
      "{'1': 0, '2': 0, '3': 0, '4': 1, '5': 0}\n",
      "There are 4 houses in a row, numbered 1 on the left to 4 on the right. There is one person living in each house. The people in these houses have different characteristics:\n",
      " - Each person plays a different musical instrument: one is a saxophonist, one is a pianist, one is a violinist, and one is a cellist\n",
      " - Each person has a different kind of car: one drives a minivan, one owns an SUV, one owns a sedan, and one drives a convertible\n",
      " - Everyone likes a different kind of book: one is a history book buff, one is a mystery book reader, one is a science fiction book fanatic, and one is a fantasy book enthusiast\n",
      " - Each person ate something different for lunch: one ate grilled cheese, one ate fried rice, one had stew, and one ate spaghetti\n",
      " - Each person has a favorite color: one likes green, one likes blue, one likes red, and one likes white\n",
      "\n",
      "Clue(s):\n",
      "1. The person who had stew lives directly left of the saxophonist.\n",
      "2. The pianist does not live in the first house.\n",
      "3. The saxophonist lives directly left of the mystery book reader.\n",
      "4. There is one house between where the person who ate spaghetti lives and where the person who likes green lives.\n",
      "5. The person who owns an SUV does not live in the fourth house.\n",
      "6. The person who likes white lives somewhere to the left of the person who owns an SUV.\n",
      "7. The pianist lives somewhere to the left of the person who ate fried rice.\n",
      "8. The person who likes green lives directly left of the person who ate fried rice.\n",
      "9. The person who drives a convertible does not live in the fourth house.\n",
      "10. The violinist does not live in the first house.\n",
      "11. The person who drives a minivan lives directly left of the history book buff.\n",
      "12. The person who likes green does not live in the second house.\n",
      "13. There are two houses between where the fantasy book enthusiast lives and where the person who likes blue lives.\n",
      "14. The person who likes white lives directly left of the person who drives a minivan.\n",
      "\n",
      "What is the number of the house where the person who owns an SUV lives?\n",
      "{'1': 0, '2': 0, '3': 1, '4': 0}\n",
      "There are 4 houses in a row, numbered 1 on the left to 4 on the right. There is one person living in each house. The people in these houses have different characteristics:\n",
      " - Each person has a different device: one has a gameboy, one has a computer, one has a radio, and one has a phone\n",
      " - Each person is wearing different shoes: one is wearing boots, one is wearing loafers, one is wearing high heels, and one is wearing sandals\n",
      " - Each person plays a different musical instrument: one is a cellist, one is a saxophonist, one is a percussionist, and one is a flutist\n",
      "\n",
      "Clue(s):\n",
      "1. The percussionist lives somewhere to the right of the person who is wearing loafers.\n",
      "2. The person who is wearing loafers lives in the second house.\n",
      "3. The person who has a gameboy and the saxophonist live directly next to each other.\n",
      "4. The person who has a computer lives somewhere to the left of the cellist.\n",
      "5. There are two houses between where the flutist lives and where the person who is wearing high heels lives.\n",
      "6. The flutist and the cellist live directly next to each other.\n",
      "7. The person who has a gameboy lives somewhere to the left of the person who is wearing sandals.\n",
      "8. There is one house between where the person who has a gameboy lives and where the person who has a phone lives.\n",
      "\n",
      "What is the number of the house where the saxophonist lives?\n",
      "{'1': 0, '2': 0, '3': 1, '4': 0}\n"
     ]
    }
   ],
   "source": [
    "for q in data[\"examples\"][:3]:\n",
    "    input_text = q[\"input\"]\n",
    "    target_text = q[\"target_scores\"]\n",
    "    print(input_text)\n",
    "    print(target_text)\n",
    "    "
   ]
  },
  {
   "cell_type": "code",
   "execution_count": 7,
   "metadata": {},
   "outputs": [
    {
     "name": "stderr",
     "output_type": "stream",
     "text": [
      "[nltk_data] Downloading package punkt to /Users/tevykuch/nltk_data...\n",
      "[nltk_data]   Package punkt is already up-to-date!\n"
     ]
    },
    {
     "data": {
      "text/plain": [
       "1000"
      ]
     },
     "execution_count": 7,
     "metadata": {},
     "output_type": "execute_result"
    }
   ],
   "source": [
    "#input text\n",
    "import nltk\n",
    "from nltk.tokenize import word_tokenize, sent_tokenize\n",
    "\n",
    "# Download punkt pre-trained dataset for nlp tasks (word seg, text split)\n",
    "nltk.download('punkt')\n",
    "\n",
    "from sklearn.pipeline import Pipeline\n",
    "from nltk.stem import PorterStemmer\n",
    "from sklearn.preprocessing import FunctionTransformer\n",
    "\n",
    "\n",
    "# preprocessing pipeline: removing stopwords, stemming, or applying custom text-based transformations\n",
    "def stem_text(text):\n",
    "    stemmer = PorterStemmer()\n",
    "    return ' '.join([stemmer.stem(word) for word in word_tokens])\n",
    "\n",
    "# Create a preprocessing pipeline\n",
    "text_preprocessor = Pipeline([\n",
    "    ('stemming', FunctionTransformer(func=stem_text, validate=False))\n",
    "])\n",
    "\n",
    "# Contain all the semantic entries for input data \n",
    "preprocessed_list = []\n",
    "truth_list = []\n",
    "\n",
    "\n",
    "# word tokenization \n",
    "for q in data[\"examples\"]:\n",
    "    input_text = q[\"input\"]\n",
    "    target_text = q[\"target_scores\"]\n",
    "    word_tokens = word_tokenize(input_text)\n",
    "\n",
    "    # Apply the preprocessing pipeline to  tokenized text data. Contains the result of applying text-based transformation after stemming is applied to each token \n",
    "    preprocessed_text = text_preprocessor.fit_transform(input_text)\n",
    "\n",
    "    #append the tokens of preprocessed text to the lists\n",
    "    preprocessed_list.append(preprocessed_text)\n",
    "    truth_list.append(target_text)\n",
    "\n",
    "\n",
    "# generate preprocessed dataset for train \n",
    "len(preprocessed_list)"
   ]
  },
  {
   "cell_type": "code",
   "execution_count": 8,
   "metadata": {},
   "outputs": [
    {
     "data": {
      "text/plain": [
       "array([-2.38868147e-01,  1.57130122e-01, -1.98657185e-01,  7.07081780e-02,\n",
       "        1.60884112e-02, -1.28634304e-01, -6.09700382e-02,  9.46452096e-02,\n",
       "        3.32956463e-02, -1.95430562e-01,  7.83713758e-02, -3.62142213e-02,\n",
       "        6.06287606e-02, -1.21323243e-01,  9.07008648e-02,  5.43111898e-02,\n",
       "        4.88120057e-02,  2.18408316e-01, -4.52591479e-02, -2.54116178e-01,\n",
       "        1.73143402e-01,  2.36945949e-03,  8.74690339e-03,  7.11226836e-02,\n",
       "        1.50570184e-01, -1.93555113e-02,  1.85503811e-01,  7.55094811e-02,\n",
       "        2.07841918e-02,  1.64778113e-01, -3.71654272e-01,  2.85769105e-01,\n",
       "        1.64738074e-01,  1.00546665e-01,  6.82918578e-02,  3.56733024e-01,\n",
       "        5.11688553e-02, -1.63595363e-01, -2.77839571e-01,  4.02103603e-01,\n",
       "        1.84386790e-01,  3.59024368e-02, -4.81859175e-03, -1.60393193e-01,\n",
       "       -3.16908918e-02, -7.01410472e-02,  2.44593918e-01, -2.08912700e-01,\n",
       "       -1.25493035e-02,  1.73319108e-03,  1.59540892e-01, -7.04935715e-02,\n",
       "       -2.82901525e-01,  1.96134955e-01, -8.54117647e-02,  1.58957131e-02,\n",
       "        1.07446462e-01, -5.45103177e-02, -1.83831364e-01,  5.76883145e-02,\n",
       "       -1.63610175e-03, -1.70469269e-01,  2.06405413e-04, -1.53222248e-01,\n",
       "        1.28353238e-01, -6.24653324e-02,  5.46632102e-03, -2.09970310e-01,\n",
       "       -1.25059083e-01,  1.29240990e-01, -1.60026520e-01, -2.28518888e-01,\n",
       "       -9.62490216e-02,  1.71413332e-01, -1.24024384e-01,  2.92764962e-01,\n",
       "        1.00109085e-01,  8.46729726e-02, -7.84500316e-02,  2.96538174e-01,\n",
       "        1.66980308e-02,  3.13260287e-01, -1.54234469e-01,  2.30807737e-02,\n",
       "       -2.07487077e-01,  1.10278711e-01,  1.47292376e-01,  5.17144762e-02,\n",
       "        1.10865712e-01, -6.08271509e-02, -1.56071991e-01,  1.53039098e-01,\n",
       "       -1.49144307e-01, -8.99323449e-02, -1.30278066e-01, -2.65112579e-01,\n",
       "        7.36663342e-02, -1.31918430e-01, -9.60977376e-02,  1.31775558e-01],\n",
       "      dtype=float32)"
      ]
     },
     "execution_count": 8,
     "metadata": {},
     "output_type": "execute_result"
    }
   ],
   "source": [
    "\n",
    "import numpy as np\n",
    "from gensim.models import Word2Vec\n",
    "from sklearn.feature_extraction.text import TfidfVectorizer\n",
    "\n",
    "vector_size = 100  # Dimensionality of word embeddings\n",
    "window_size = 5    # Context window size\n",
    "min_count = 0.5     # Minimum word frequency\n",
    "sg = 0              # Use Skip-gram model (0 for CBOW)\n",
    "\n",
    "#create a word2vec model\n",
    "word2vec_model = Word2Vec(sentences = preprocessed_list, vector_size=vector_size, window=window_size, min_count=min_count, sg=sg)\n",
    "\n",
    "\n",
    "# Save the trained model\n",
    "word2vec_model.save('word2vec_model.bin')\n",
    "\n",
    "\n",
    "text_vectors = []\n",
    "for sentence in preprocessed_list:\n",
    "    # Get the word vectors for each word in the sentence\n",
    "    word_vectors = [word2vec_model.wv[word] for word in sentence]\n",
    "    \n",
    "    # Calculate the sentence vector as the mean of word vectors\n",
    "    sentence_vector = np.mean(word_vectors, axis=0)\n",
    "    \n",
    "    text_vectors.append(sentence_vector)\n",
    "\n",
    "\n",
    "# Convert the list of text vectors into a numpy array containing numerical representations\n",
    "#text_vectors = np.array(text_vectors)\n",
    "text_vectors[0]"
   ]
  },
  {
   "cell_type": "code",
   "execution_count": 9,
   "metadata": {},
   "outputs": [
    {
     "name": "stdout",
     "output_type": "stream",
     "text": [
      "[' ', 'e', 'o', 'h', 't', 'i', 'r', 'n', 'a', 's', 'l', 'f', 'w', 'd', 'p', 'u', 'c', '.', 'v', 'b', 'k', ',', 'm', 'g', ':', '1', 'y', '-', '2', '3', '4', 'q', '5', 'x', ')', '(', '?', 'z', '6', '7', '8', '9', '0']\n"
     ]
    }
   ],
   "source": [
    "\n",
    "# test the model with sample word \n",
    "#word_vector = word2vec_model.wv['soccer']\n",
    "\n",
    "preprocessed_list[0]\n",
    "\n",
    "# check if the vocabulary exists \n",
    "vocabulary = word2vec_model.wv.index_to_key\n",
    "print(vocabulary)\n",
    "\n"
   ]
  },
  {
   "cell_type": "code",
   "execution_count": 10,
   "metadata": {},
   "outputs": [
    {
     "name": "stdout",
     "output_type": "stream",
     "text": [
      "soccer not in vocabulary\n"
     ]
    }
   ],
   "source": [
    "# check if preprocessed words in the model \n",
    "if 'soccer' in word2vec_model.wv:\n",
    "    soccer_vector = word2vec_model.wv['soccer']\n",
    "    print(soccer_vector)\n",
    "else:\n",
    "    print('soccer not in vocabulary')\n"
   ]
  },
  {
   "cell_type": "code",
   "execution_count": 11,
   "metadata": {},
   "outputs": [
    {
     "name": "stdout",
     "output_type": "stream",
     "text": [
      "soccer is in the list\n"
     ]
    }
   ],
   "source": [
    "contains_soccer = any('soccer' in token for token in preprocessed_list)\n",
    "if contains_soccer:\n",
    "    print('soccer is in the list')\n",
    "else:\n",
    "    print('soccer is not in the list')\n",
    "\n",
    "\n",
    "#preprocessed_list is a list of list \n"
   ]
  },
  {
   "cell_type": "code",
   "execution_count": 12,
   "metadata": {},
   "outputs": [
    {
     "name": "stdout",
     "output_type": "stream",
     "text": [
      "soccer is in the list\n"
     ]
    }
   ],
   "source": [
    "for sentence_tokens in preprocessed_list:\n",
    "    if 'soccer' in sentence_tokens:\n",
    "        print('soccer is in the list')\n",
    "        break\n"
   ]
  },
  {
   "cell_type": "code",
   "execution_count": 13,
   "metadata": {},
   "outputs": [
    {
     "data": {
      "text/html": [
       "<div>\n",
       "<style scoped>\n",
       "    .dataframe tbody tr th:only-of-type {\n",
       "        vertical-align: middle;\n",
       "    }\n",
       "\n",
       "    .dataframe tbody tr th {\n",
       "        vertical-align: top;\n",
       "    }\n",
       "\n",
       "    .dataframe thead th {\n",
       "        text-align: right;\n",
       "    }\n",
       "</style>\n",
       "<table border=\"1\" class=\"dataframe\">\n",
       "  <thead>\n",
       "    <tr style=\"text-align: right;\">\n",
       "      <th></th>\n",
       "      <th>combined text</th>\n",
       "    </tr>\n",
       "  </thead>\n",
       "  <tbody>\n",
       "    <tr>\n",
       "      <th>input text</th>\n",
       "      <td>There are 2 houses next to each other, numbere...</td>\n",
       "    </tr>\n",
       "    <tr>\n",
       "      <th>tokenized text</th>\n",
       "      <td>[[-0.23886815, 0.15713012, -0.19865718, 0.0707...</td>\n",
       "    </tr>\n",
       "    <tr>\n",
       "      <th>truth text</th>\n",
       "      <td>[{'1': 0, '2': 0, '3': 0, '4': 1, '5': 0}, {'1...</td>\n",
       "    </tr>\n",
       "  </tbody>\n",
       "</table>\n",
       "</div>"
      ],
      "text/plain": [
       "                                                    combined text\n",
       "input text      There are 2 houses next to each other, numbere...\n",
       "tokenized text  [[-0.23886815, 0.15713012, -0.19865718, 0.0707...\n",
       "truth text      [{'1': 0, '2': 0, '3': 0, '4': 1, '5': 0}, {'1..."
      ]
     },
     "execution_count": 13,
     "metadata": {},
     "output_type": "execute_result"
    }
   ],
   "source": [
    "import pandas as pd\n",
    "\n",
    "input_df = pd.DataFrame({'input text' : preprocessed_list})\n",
    "truth_df = pd.DataFrame({'truth text' : truth_list})\n",
    "\n",
    "combined_df = {'input text' : input_text,\n",
    "'tokenized text' : text_vectors,\n",
    "'truth text' : truth_list }\n",
    "\n",
    "combineddf = pd.DataFrame({'combined text' : combined_df})\n",
    "combineddf[:3]"
   ]
  },
  {
   "cell_type": "code",
   "execution_count": 22,
   "metadata": {},
   "outputs": [
    {
     "data": {
      "text/html": [
       "<div>\n",
       "<style scoped>\n",
       "    .dataframe tbody tr th:only-of-type {\n",
       "        vertical-align: middle;\n",
       "    }\n",
       "\n",
       "    .dataframe tbody tr th {\n",
       "        vertical-align: top;\n",
       "    }\n",
       "\n",
       "    .dataframe thead th {\n",
       "        text-align: right;\n",
       "    }\n",
       "</style>\n",
       "<table border=\"1\" class=\"dataframe\">\n",
       "  <thead>\n",
       "    <tr style=\"text-align: right;\">\n",
       "      <th></th>\n",
       "      <th>input text</th>\n",
       "      <th>tokenized text</th>\n",
       "      <th>truth text</th>\n",
       "    </tr>\n",
       "  </thead>\n",
       "  <tbody>\n",
       "    <tr>\n",
       "      <th>0</th>\n",
       "      <td>There are 2 houses next to each other, numbere...</td>\n",
       "      <td>[-0.23886815, 0.15713012, -0.19865718, 0.07070...</td>\n",
       "      <td>{'1': 0, '2': 0, '3': 0, '4': 1, '5': 0}</td>\n",
       "    </tr>\n",
       "    <tr>\n",
       "      <th>1</th>\n",
       "      <td>There are 2 houses next to each other, numbere...</td>\n",
       "      <td>[-0.2377491, 0.15154833, -0.19432862, 0.080036...</td>\n",
       "      <td>{'1': 0, '2': 0, '3': 1, '4': 0}</td>\n",
       "    </tr>\n",
       "    <tr>\n",
       "      <th>2</th>\n",
       "      <td>There are 2 houses next to each other, numbere...</td>\n",
       "      <td>[-0.25480124, 0.14128003, -0.22882473, 0.04912...</td>\n",
       "      <td>{'1': 0, '2': 0, '3': 1, '4': 0}</td>\n",
       "    </tr>\n",
       "  </tbody>\n",
       "</table>\n",
       "</div>"
      ],
      "text/plain": [
       "                                          input text  \\\n",
       "0  There are 2 houses next to each other, numbere...   \n",
       "1  There are 2 houses next to each other, numbere...   \n",
       "2  There are 2 houses next to each other, numbere...   \n",
       "\n",
       "                                      tokenized text  \\\n",
       "0  [-0.23886815, 0.15713012, -0.19865718, 0.07070...   \n",
       "1  [-0.2377491, 0.15154833, -0.19432862, 0.080036...   \n",
       "2  [-0.25480124, 0.14128003, -0.22882473, 0.04912...   \n",
       "\n",
       "                                 truth text  \n",
       "0  {'1': 0, '2': 0, '3': 0, '4': 1, '5': 0}  \n",
       "1          {'1': 0, '2': 0, '3': 1, '4': 0}  \n",
       "2          {'1': 0, '2': 0, '3': 1, '4': 0}  "
      ]
     },
     "execution_count": 22,
     "metadata": {},
     "output_type": "execute_result"
    }
   ],
   "source": [
    "combined = pd.DataFrame(combined_df)\n",
    "combined[:3]"
   ]
  },
  {
   "cell_type": "code",
   "execution_count": 23,
   "metadata": {},
   "outputs": [],
   "source": [
    "correct_labels = {}\n",
    "#truth list is a list of dictionaries\n",
    "for labels in truth_list: \n",
    "    for label, score in labels.items(): \n",
    "        if score == 1:\n",
    "            correct_labels[label] = score"
   ]
  },
  {
   "cell_type": "code",
   "execution_count": 25,
   "metadata": {},
   "outputs": [
    {
     "data": {
      "text/html": [
       "<div>\n",
       "<style scoped>\n",
       "    .dataframe tbody tr th:only-of-type {\n",
       "        vertical-align: middle;\n",
       "    }\n",
       "\n",
       "    .dataframe tbody tr th {\n",
       "        vertical-align: top;\n",
       "    }\n",
       "\n",
       "    .dataframe thead th {\n",
       "        text-align: right;\n",
       "    }\n",
       "</style>\n",
       "<table border=\"1\" class=\"dataframe\">\n",
       "  <thead>\n",
       "    <tr style=\"text-align: right;\">\n",
       "      <th></th>\n",
       "      <th>input text</th>\n",
       "      <th>label</th>\n",
       "      <th>score</th>\n",
       "    </tr>\n",
       "  </thead>\n",
       "  <tbody>\n",
       "    <tr>\n",
       "      <th>0</th>\n",
       "      <td>There are 2 houses next to each other, numbere...</td>\n",
       "      <td>4</td>\n",
       "      <td>1</td>\n",
       "    </tr>\n",
       "    <tr>\n",
       "      <th>1</th>\n",
       "      <td>There are 2 houses next to each other, numbere...</td>\n",
       "      <td>3</td>\n",
       "      <td>1</td>\n",
       "    </tr>\n",
       "    <tr>\n",
       "      <th>2</th>\n",
       "      <td>There are 2 houses next to each other, numbere...</td>\n",
       "      <td>2</td>\n",
       "      <td>1</td>\n",
       "    </tr>\n",
       "    <tr>\n",
       "      <th>3</th>\n",
       "      <td>There are 2 houses next to each other, numbere...</td>\n",
       "      <td>1</td>\n",
       "      <td>1</td>\n",
       "    </tr>\n",
       "  </tbody>\n",
       "</table>\n",
       "</div>"
      ],
      "text/plain": [
       "                                          input text label  score\n",
       "0  There are 2 houses next to each other, numbere...     4      1\n",
       "1  There are 2 houses next to each other, numbere...     3      1\n",
       "2  There are 2 houses next to each other, numbere...     2      1\n",
       "3  There are 2 houses next to each other, numbere...     1      1"
      ]
     },
     "execution_count": 25,
     "metadata": {},
     "output_type": "execute_result"
    }
   ],
   "source": [
    "reward = [{\n",
    "    'input text': input_text,\n",
    "    'label' : label,\n",
    "    'score' : score\n",
    "} for label, score in correct_labels.items()]\n",
    "\n",
    "reward_mod = pd.DataFrame(reward)\n",
    "reward_mod[:4]\n"
   ]
  },
  {
   "cell_type": "markdown",
   "metadata": {},
   "source": [
    "## Preprocessing Architecture"
   ]
  },
  {
   "cell_type": "code",
   "execution_count": 97,
   "metadata": {},
   "outputs": [],
   "source": [
    "# Preprocessing Setup \n",
    "import torch\n",
    "import torch.nn as nn\n",
    "import torch.optim as optim\n",
    "from torchvision import transforms\n",
    "import torchvision.models as models\n",
    "import torch.utils.data as data\n",
    "import numpy as np\n",
    "import sklearn\n",
    "from sklearn.model_selection import train_test_split\n",
    "\n",
    "# split data into train and test sets randomly by percentage weight using the dataframe \n",
    "train_data, test_val_data = train_test_split(combined, test_size=0.1, random_state=42)\n",
    "\n",
    "#split test into test and val by percentage weight\n",
    "test_data, val_data = train_test_split(test_val_data, test_size=0.5, random_state=42)\n",
    "\n",
    "batch_size = 16\n",
    "\n",
    "train_dataloader = torch.utils.data.DataLoader(train_data, batch_size, shuffle=True)\n",
    "test_dataloader = torch.utils.data.DataLoader(test_data, batch_size, shuffle=True)\n",
    "val_dataloader = torch.utils.data.DataLoader(val_data, batch_size, shuffle=True)\n"
   ]
  },
  {
   "cell_type": "markdown",
   "metadata": {},
   "source": [
    "### output layer for preprocessing"
   ]
  },
  {
   "cell_type": "code",
   "execution_count": 98,
   "metadata": {},
   "outputs": [],
   "source": [
    "# use GPU if available\n",
    "device = torch.device(\"cuda\" if torch.cuda.is_available() else \"cpu\")\n",
    "\n",
    "## Multiple Output Layers ## \n",
    "# Loss Function: Binary Cross-Entropy Loss: binary classification output layer\n",
    "# Mean Squared Error (MSE) or Mean Absolute Error (MAE) : Regression layer to predict a continuous confidence score\n",
    "\n",
    "class CustomOutputLayer(nn.Module):\n",
    "    def __init__(self, input_size, hidden_size, num_classes):\n",
    "        super(CustomModel, self).__init__()\n",
    "        self.fc1 = nn.Linear(input_size, hidden_size)\n",
    "        self.fc2 = nn.Linear(hidden_size, hidden_size)\n",
    "        self.fc3_binary = nn.Linear(hidden_size, 1)  # Binary classification output layer\n",
    "        self.fc3_regression = nn.Linear(hidden_size, 1)  # Regression output layer\n",
    "\n",
    "    def forward(self, x):\n",
    "        x = F.relu(self.fc1(x))\n",
    "        x = F.relu(self.fc2(x))\n",
    "        binary_output = torch.sigmoid(self.fc3_binary(x))  # Apply sigmoid for binary classification\n",
    "        regression_output = self.fc3_regression(x)  # Linear activation for regression\n",
    "        return binary_output, regression_output\n",
    "\n",
    "\n",
    "    #training epoch, loss function"
   ]
  },
  {
   "cell_type": "code",
   "execution_count": null,
   "metadata": {},
   "outputs": [],
   "source": []
  }
 ],
 "metadata": {
  "kernelspec": {
   "display_name": "Python 3.9.12 ('base')",
   "language": "python",
   "name": "python3"
  },
  "language_info": {
   "codemirror_mode": {
    "name": "ipython",
    "version": 3
   },
   "file_extension": ".py",
   "mimetype": "text/x-python",
   "name": "python",
   "nbconvert_exporter": "python",
   "pygments_lexer": "ipython3",
   "version": "3.9.12"
  },
  "orig_nbformat": 4,
  "vscode": {
   "interpreter": {
    "hash": "65af070d21cb1b9d17540ebdf37b70f663f41c114c60cbd3317978e563b816d3"
   }
  }
 },
 "nbformat": 4,
 "nbformat_minor": 2
}
